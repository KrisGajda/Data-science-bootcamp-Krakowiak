{
  "nbformat": 4,
  "nbformat_minor": 0,
  "metadata": {
    "colab": {
      "provenance": [],
      "authorship_tag": "ABX9TyMsejrZi0DBTa9VrfXmmtDo",
      "include_colab_link": true
    },
    "kernelspec": {
      "name": "python3",
      "display_name": "Python 3"
    },
    "language_info": {
      "name": "python"
    }
  },
  "cells": [
    {
      "cell_type": "markdown",
      "metadata": {
        "id": "view-in-github",
        "colab_type": "text"
      },
      "source": [
        "<a href=\"https://colab.research.google.com/github/KrisGajda/Data-science-bootcamp-Krakowiak/blob/main/Data_science_exercises.ipynb\" target=\"_parent\"><img src=\"https://colab.research.google.com/assets/colab-badge.svg\" alt=\"Open In Colab\"/></a>"
      ]
    },
    {
      "cell_type": "markdown",
      "source": [
        "Tworzenie obiektu typu array (tablicy)"
      ],
      "metadata": {
        "id": "FSEDFF7wY6o6"
      }
    },
    {
      "cell_type": "code",
      "execution_count": null,
      "metadata": {
        "colab": {
          "base_uri": "https://localhost:8080/"
        },
        "id": "zAG2yqF3SurV",
        "outputId": "15a0de70-a78f-4238-9b7f-945cba206c26"
      },
      "outputs": [
        {
          "output_type": "execute_result",
          "data": {
            "text/plain": [
              "dtype('float64')"
            ]
          },
          "metadata": {},
          "execution_count": 4
        }
      ],
      "source": [
        "import numpy as np\n",
        "A = np.array([1, 2, 3], dtype='float') # utworzenie tablicy jednowymiarowej typu float\n",
        "A.dtype"
      ]
    },
    {
      "cell_type": "code",
      "source": [
        "A = np.array([24, 120, 220], dtype=np.int16)\n",
        "A.dtype"
      ],
      "metadata": {
        "colab": {
          "base_uri": "https://localhost:8080/"
        },
        "id": "D2erx5ACTx6w",
        "outputId": "e018f213-9101-4680-83a6-a4a83946fb70"
      },
      "execution_count": null,
      "outputs": [
        {
          "output_type": "execute_result",
          "data": {
            "text/plain": [
              "dtype('int16')"
            ]
          },
          "metadata": {},
          "execution_count": 13
        }
      ]
    },
    {
      "cell_type": "code",
      "source": [
        "X = np.zeros(shape=(3, 5)) # utworzenie tablicy zer o kształcie 3x5\n",
        "X"
      ],
      "metadata": {
        "colab": {
          "base_uri": "https://localhost:8080/"
        },
        "id": "EcdSNYjZT63V",
        "outputId": "12193837-1b08-4257-e0f9-1effa96d8bce"
      },
      "execution_count": null,
      "outputs": [
        {
          "output_type": "execute_result",
          "data": {
            "text/plain": [
              "array([[0., 0., 0., 0., 0.],\n",
              "       [0., 0., 0., 0., 0.],\n",
              "       [0., 0., 0., 0., 0.]])"
            ]
          },
          "metadata": {},
          "execution_count": 33
        }
      ]
    },
    {
      "cell_type": "code",
      "source": [
        "E = np.ones(shape=(3, 5)) # utworzenie tablicy jedynek o kształcie 3x5\n",
        "E"
      ],
      "metadata": {
        "colab": {
          "base_uri": "https://localhost:8080/"
        },
        "id": "xNC3R4SXX-b0",
        "outputId": "19885b78-d7c8-494b-b848-c8a12087c3c1"
      },
      "execution_count": null,
      "outputs": [
        {
          "output_type": "execute_result",
          "data": {
            "text/plain": [
              "array([[1., 1., 1., 1., 1.],\n",
              "       [1., 1., 1., 1., 1.],\n",
              "       [1., 1., 1., 1., 1.]])"
            ]
          },
          "metadata": {},
          "execution_count": 35
        }
      ]
    },
    {
      "cell_type": "code",
      "source": [
        "Y = np.full(shape=(5, 5), fill_value=4) # utworzenie tablicy o danym kształcie i wypełnionej określonymi wartościami\n",
        "Y"
      ],
      "metadata": {
        "colab": {
          "base_uri": "https://localhost:8080/"
        },
        "id": "MNIJtQnUX1nx",
        "outputId": "49917887-90ef-44f0-eb9c-0fed088c90d7"
      },
      "execution_count": null,
      "outputs": [
        {
          "output_type": "execute_result",
          "data": {
            "text/plain": [
              "array([[4, 4, 4, 4, 4],\n",
              "       [4, 4, 4, 4, 4],\n",
              "       [4, 4, 4, 4, 4],\n",
              "       [4, 4, 4, 4, 4],\n",
              "       [4, 4, 4, 4, 4]])"
            ]
          },
          "metadata": {},
          "execution_count": 6
        }
      ]
    },
    {
      "cell_type": "code",
      "source": [
        "import numpy as np\n",
        "A = np.arange(120) # utwórz tabelę 120-elementową\n",
        "A.reshape((10, -1)) # ... okształcie: 10 wierszy , dopasuj ilość kolumn (-1)"
      ],
      "metadata": {
        "colab": {
          "base_uri": "https://localhost:8080/"
        },
        "id": "l3DTRUo-YLX8",
        "outputId": "1f43f81b-f53b-4709-c2e1-7f2b654f7060"
      },
      "execution_count": null,
      "outputs": [
        {
          "output_type": "execute_result",
          "data": {
            "text/plain": [
              "array([[  0,   1,   2,   3,   4,   5,   6,   7,   8,   9,  10,  11],\n",
              "       [ 12,  13,  14,  15,  16,  17,  18,  19,  20,  21,  22,  23],\n",
              "       [ 24,  25,  26,  27,  28,  29,  30,  31,  32,  33,  34,  35],\n",
              "       [ 36,  37,  38,  39,  40,  41,  42,  43,  44,  45,  46,  47],\n",
              "       [ 48,  49,  50,  51,  52,  53,  54,  55,  56,  57,  58,  59],\n",
              "       [ 60,  61,  62,  63,  64,  65,  66,  67,  68,  69,  70,  71],\n",
              "       [ 72,  73,  74,  75,  76,  77,  78,  79,  80,  81,  82,  83],\n",
              "       [ 84,  85,  86,  87,  88,  89,  90,  91,  92,  93,  94,  95],\n",
              "       [ 96,  97,  98,  99, 100, 101, 102, 103, 104, 105, 106, 107],\n",
              "       [108, 109, 110, 111, 112, 113, 114, 115, 116, 117, 118, 119]])"
            ]
          },
          "metadata": {},
          "execution_count": 9
        }
      ]
    },
    {
      "cell_type": "code",
      "source": [
        "A.reshape((-1, 12)) # dopasuj ilość wierszy do dwunastu kolumn"
      ],
      "metadata": {
        "colab": {
          "base_uri": "https://localhost:8080/"
        },
        "id": "XJEvHUhkYfvn",
        "outputId": "1b602dfa-b5b5-4f2d-d219-fdc91382a258"
      },
      "execution_count": null,
      "outputs": [
        {
          "output_type": "execute_result",
          "data": {
            "text/plain": [
              "array([[  0,   1,   2,   3,   4,   5,   6,   7,   8,   9,  10,  11],\n",
              "       [ 12,  13,  14,  15,  16,  17,  18,  19,  20,  21,  22,  23],\n",
              "       [ 24,  25,  26,  27,  28,  29,  30,  31,  32,  33,  34,  35],\n",
              "       [ 36,  37,  38,  39,  40,  41,  42,  43,  44,  45,  46,  47],\n",
              "       [ 48,  49,  50,  51,  52,  53,  54,  55,  56,  57,  58,  59],\n",
              "       [ 60,  61,  62,  63,  64,  65,  66,  67,  68,  69,  70,  71],\n",
              "       [ 72,  73,  74,  75,  76,  77,  78,  79,  80,  81,  82,  83],\n",
              "       [ 84,  85,  86,  87,  88,  89,  90,  91,  92,  93,  94,  95],\n",
              "       [ 96,  97,  98,  99, 100, 101, 102, 103, 104, 105, 106, 107],\n",
              "       [108, 109, 110, 111, 112, 113, 114, 115, 116, 117, 118, 119]])"
            ]
          },
          "metadata": {},
          "execution_count": 12
        }
      ]
    },
    {
      "cell_type": "markdown",
      "source": [
        "Działania arytmetyczne na tabelach"
      ],
      "metadata": {
        "id": "4JFo-BEJbfYP"
      }
    },
    {
      "cell_type": "code",
      "source": [
        "A = np.array([3, 1, 4, 2])\n",
        "B = np.array([3, -1, 3, 2])\n",
        "print(A)\n",
        "print(B)"
      ],
      "metadata": {
        "colab": {
          "base_uri": "https://localhost:8080/"
        },
        "id": "l6_MbNi6G1zk",
        "outputId": "72aa0b87-f988-4753-901e-15c364008695"
      },
      "execution_count": null,
      "outputs": [
        {
          "output_type": "stream",
          "name": "stdout",
          "text": [
            "[3 1 4 2]\n",
            "[ 3 -1  3  2]\n"
          ]
        }
      ]
    },
    {
      "cell_type": "code",
      "source": [
        "A+B"
      ],
      "metadata": {
        "colab": {
          "base_uri": "https://localhost:8080/"
        },
        "id": "cCT0SxXQHRrx",
        "outputId": "73417c56-c57b-4eca-9d91-caf1c6b2c383"
      },
      "execution_count": null,
      "outputs": [
        {
          "output_type": "execute_result",
          "data": {
            "text/plain": [
              "array([6, 0, 7, 4])"
            ]
          },
          "metadata": {},
          "execution_count": 14
        }
      ]
    },
    {
      "cell_type": "code",
      "source": [
        "np.add(A, B) # funkcja add() - dodawanie tablic"
      ],
      "metadata": {
        "colab": {
          "base_uri": "https://localhost:8080/"
        },
        "id": "pYgpqBAQH4xn",
        "outputId": "740c7641-e6b6-4f58-dabc-767e8b5e385a"
      },
      "execution_count": null,
      "outputs": [
        {
          "output_type": "execute_result",
          "data": {
            "text/plain": [
              "array([6, 0, 7, 4])"
            ]
          },
          "metadata": {},
          "execution_count": 21
        }
      ]
    },
    {
      "cell_type": "code",
      "source": [
        "A-B"
      ],
      "metadata": {
        "colab": {
          "base_uri": "https://localhost:8080/"
        },
        "id": "VbmpbOqNHWCk",
        "outputId": "34cd553d-d4b5-42ec-a4e2-17743b876f9e"
      },
      "execution_count": null,
      "outputs": [
        {
          "output_type": "execute_result",
          "data": {
            "text/plain": [
              "array([0, 2, 1, 0])"
            ]
          },
          "metadata": {},
          "execution_count": 15
        }
      ]
    },
    {
      "cell_type": "code",
      "source": [
        "np.subtract(A, B) # funkcja substrackt() - odejmownanie tablic"
      ],
      "metadata": {
        "colab": {
          "base_uri": "https://localhost:8080/"
        },
        "id": "6YX69pgcIDgM",
        "outputId": "69246233-31e5-428c-870b-a6c85c017c44"
      },
      "execution_count": null,
      "outputs": [
        {
          "output_type": "execute_result",
          "data": {
            "text/plain": [
              "array([0, 2, 1, 0])"
            ]
          },
          "metadata": {},
          "execution_count": 22
        }
      ]
    },
    {
      "cell_type": "code",
      "source": [
        "A*B"
      ],
      "metadata": {
        "colab": {
          "base_uri": "https://localhost:8080/"
        },
        "id": "Gw_AsXdzHZ5T",
        "outputId": "003e0762-3a79-401d-f45c-5e32f8c1dac3"
      },
      "execution_count": null,
      "outputs": [
        {
          "output_type": "execute_result",
          "data": {
            "text/plain": [
              "array([ 9, -1, 12,  4])"
            ]
          },
          "metadata": {},
          "execution_count": 16
        }
      ]
    },
    {
      "cell_type": "code",
      "source": [
        "np.multiply(A, B) # funkcja multiply() - mnożenie tablic (nie macieżowe!)"
      ],
      "metadata": {
        "colab": {
          "base_uri": "https://localhost:8080/"
        },
        "id": "IDdx2NwnILyH",
        "outputId": "db8298ea-e3a2-4a9a-d5c1-85f1eafcd77f"
      },
      "execution_count": null,
      "outputs": [
        {
          "output_type": "execute_result",
          "data": {
            "text/plain": [
              "array([ 9, -1, 12,  4])"
            ]
          },
          "metadata": {},
          "execution_count": 23
        }
      ]
    },
    {
      "cell_type": "code",
      "source": [
        "A/B"
      ],
      "metadata": {
        "colab": {
          "base_uri": "https://localhost:8080/"
        },
        "id": "CuCIKQlMHfNE",
        "outputId": "6d440c70-2d3d-43d5-c0a1-73400ed40411"
      },
      "execution_count": null,
      "outputs": [
        {
          "output_type": "execute_result",
          "data": {
            "text/plain": [
              "array([ 1.        , -1.        ,  1.33333333,  1.        ])"
            ]
          },
          "metadata": {},
          "execution_count": 17
        }
      ]
    },
    {
      "cell_type": "code",
      "source": [
        "np.divide(A, B) # funcja divide() - dzielenie tablic"
      ],
      "metadata": {
        "colab": {
          "base_uri": "https://localhost:8080/"
        },
        "id": "EL6AU7AxISey",
        "outputId": "1d8f4be0-9e9b-460f-dc54-8180c72fa9e1"
      },
      "execution_count": null,
      "outputs": [
        {
          "output_type": "execute_result",
          "data": {
            "text/plain": [
              "array([ 1.        , -1.        ,  1.33333333,  1.        ])"
            ]
          },
          "metadata": {},
          "execution_count": 24
        }
      ]
    },
    {
      "cell_type": "code",
      "source": [
        "A+3 # dodawanie określonej wartości do każdego elementu tablicy"
      ],
      "metadata": {
        "colab": {
          "base_uri": "https://localhost:8080/"
        },
        "id": "3AlaMgdZHnW8",
        "outputId": "ce371fed-67c4-4fae-9d29-a74f468e2761"
      },
      "execution_count": null,
      "outputs": [
        {
          "output_type": "execute_result",
          "data": {
            "text/plain": [
              "array([6, 4, 7, 5])"
            ]
          },
          "metadata": {},
          "execution_count": 18
        }
      ]
    },
    {
      "cell_type": "code",
      "source": [
        "A*2 # mnożenie przez daną wartość każdego elementu tablicy"
      ],
      "metadata": {
        "colab": {
          "base_uri": "https://localhost:8080/"
        },
        "id": "TxinFF-RHtFH",
        "outputId": "f2d86147-f9bc-4200-bfd9-85478fa293b8"
      },
      "execution_count": null,
      "outputs": [
        {
          "output_type": "execute_result",
          "data": {
            "text/plain": [
              "array([6, 2, 8, 4])"
            ]
          },
          "metadata": {},
          "execution_count": 19
        }
      ]
    },
    {
      "cell_type": "code",
      "source": [
        "A+3*B # dodawanie do tablicy pomnożonej wartości innej tablicy"
      ],
      "metadata": {
        "colab": {
          "base_uri": "https://localhost:8080/"
        },
        "id": "e_dYqhOPHvxE",
        "outputId": "bf85b299-b76d-4acb-d07a-eb6a3fa5b3dc"
      },
      "execution_count": null,
      "outputs": [
        {
          "output_type": "execute_result",
          "data": {
            "text/plain": [
              "array([12, -2, 13,  8])"
            ]
          },
          "metadata": {},
          "execution_count": 20
        }
      ]
    },
    {
      "cell_type": "markdown",
      "source": [
        "Mnożenie macieżowe"
      ],
      "metadata": {
        "id": "8oyzChVbIo5L"
      }
    },
    {
      "cell_type": "code",
      "source": [
        "X = np.array([[1, 3], [-2, 0]])\n",
        "Y = np.array([[6, 0], [-1, 2]])\n",
        "print(X, '\\n')\n",
        "print(Y)"
      ],
      "metadata": {
        "colab": {
          "base_uri": "https://localhost:8080/"
        },
        "id": "kjuxO5RHIroG",
        "outputId": "a1d14d87-6f11-443f-938e-bc9fbd81ca11"
      },
      "execution_count": null,
      "outputs": [
        {
          "output_type": "stream",
          "name": "stdout",
          "text": [
            "[[ 1  3]\n",
            " [-2  0]] \n",
            "\n",
            "[[ 6  0]\n",
            " [-1  2]]\n"
          ]
        }
      ]
    },
    {
      "cell_type": "code",
      "source": [
        "np.dot(X, Y) # mnożenie maacieżowe -> wiersz x kolumna"
      ],
      "metadata": {
        "colab": {
          "base_uri": "https://localhost:8080/"
        },
        "id": "Qgg1PKJmJXqD",
        "outputId": "6094c73d-5128-42c3-836a-d7083b8ab231"
      },
      "execution_count": null,
      "outputs": [
        {
          "output_type": "execute_result",
          "data": {
            "text/plain": [
              "array([[  3,   6],\n",
              "       [-12,   0]])"
            ]
          },
          "metadata": {},
          "execution_count": 26
        }
      ]
    },
    {
      "cell_type": "code",
      "source": [
        "X.dot(Y) # to samo co wyżej - UWAGA mnożenie macieży nie jest przemienne!"
      ],
      "metadata": {
        "colab": {
          "base_uri": "https://localhost:8080/"
        },
        "id": "Ussro5pAJil5",
        "outputId": "bd598a08-4a69-4cf9-fe01-76676b7283d7"
      },
      "execution_count": null,
      "outputs": [
        {
          "output_type": "execute_result",
          "data": {
            "text/plain": [
              "array([[  3,   6],\n",
              "       [-12,   0]])"
            ]
          },
          "metadata": {},
          "execution_count": 27
        }
      ]
    },
    {
      "cell_type": "code",
      "source": [
        "X @ Y # rownież zapis mnożenia macieży"
      ],
      "metadata": {
        "colab": {
          "base_uri": "https://localhost:8080/"
        },
        "id": "xv-u6BnYJzp2",
        "outputId": "dd88bc26-67bc-4b44-ce8c-43c17fb6b1f5"
      },
      "execution_count": null,
      "outputs": [
        {
          "output_type": "execute_result",
          "data": {
            "text/plain": [
              "array([[  3,   6],\n",
              "       [-12,   0]])"
            ]
          },
          "metadata": {},
          "execution_count": 28
        }
      ]
    },
    {
      "cell_type": "markdown",
      "source": [
        "Generowanie liczb pseudolosowych"
      ],
      "metadata": {
        "id": "SxsJV4PyKIz2"
      }
    },
    {
      "cell_type": "code",
      "source": [
        "np.random.seed(0) # ziarno losowania"
      ],
      "metadata": {
        "id": "5LaxAXMwKNhy"
      },
      "execution_count": null,
      "outputs": []
    },
    {
      "cell_type": "code",
      "source": [
        "np.random.randn() # losowy rozkład normalny"
      ],
      "metadata": {
        "colab": {
          "base_uri": "https://localhost:8080/"
        },
        "id": "cBnv-JRAKgGx",
        "outputId": "73a2b32b-cd3b-4a36-f8d8-d63e856c77ad"
      },
      "execution_count": null,
      "outputs": [
        {
          "output_type": "execute_result",
          "data": {
            "text/plain": [
              "-1.4203853924563898"
            ]
          },
          "metadata": {},
          "execution_count": 29
        }
      ]
    },
    {
      "cell_type": "code",
      "source": [
        "np.random.randn(10) # tablica dziesięciu losowo wygenerowanych elementów z rozkładu normalnego standardowego (średnia 0 i odchylenie standardowe 1)"
      ],
      "metadata": {
        "colab": {
          "base_uri": "https://localhost:8080/"
        },
        "id": "w9qmwt1jKsv_",
        "outputId": "a634e158-b846-42f4-aa64-8a9790bd1984"
      },
      "execution_count": null,
      "outputs": [
        {
          "output_type": "execute_result",
          "data": {
            "text/plain": [
              "array([ 1.23112814,  1.38117045,  0.24070787,  0.2663047 , -0.50172243,\n",
              "       -0.69298896,  1.34720025, -1.16822497, -0.68816014, -0.93776055])"
            ]
          },
          "metadata": {},
          "execution_count": 30
        }
      ]
    },
    {
      "cell_type": "code",
      "source": [
        "np.random.randn(10, 4) # macierz 10x4 losowych elementów z rozkładu normalnego standardowego. Może pomóc u stworzeniu histogramów rozkładu normalnego"
      ],
      "metadata": {
        "colab": {
          "base_uri": "https://localhost:8080/"
        },
        "id": "OfyEO7NwLK7e",
        "outputId": "1c14b25e-902a-4fa2-f2cd-e1b885f67b3a"
      },
      "execution_count": null,
      "outputs": [
        {
          "output_type": "execute_result",
          "data": {
            "text/plain": [
              "array([[-1.47121739,  0.53563708,  1.27565831,  0.19329796],\n",
              "       [ 0.06765002,  0.24054598,  0.60582126, -1.14931624],\n",
              "       [-0.42343423,  2.53891024, -0.24200525,  2.63046348],\n",
              "       [ 0.55749314,  0.022744  ,  0.52464761, -0.78699184],\n",
              "       [-0.17945565, -0.72806077,  0.67291054,  1.23191456],\n",
              "       [ 0.39333837,  0.2160677 , -1.33647448, -0.17117138],\n",
              "       [ 1.55204749, -1.04981028,  1.33420541,  1.17723575],\n",
              "       [ 0.41030793, -0.65994486, -1.81798665,  0.39270413],\n",
              "       [ 0.2454609 , -1.08148767,  0.31181014, -1.58643203],\n",
              "       [ 2.0537817 , -1.47306602, -0.48511758, -0.42904267]])"
            ]
          },
          "metadata": {},
          "execution_count": 31
        }
      ]
    },
    {
      "cell_type": "code",
      "source": [
        "np.random.rand() # losowa liczba z przedziału <0, 1). Rozkład jednostajny na przedziale"
      ],
      "metadata": {
        "colab": {
          "base_uri": "https://localhost:8080/"
        },
        "id": "YODAWS8eOZ6R",
        "outputId": "2a7fa519-4861-414a-8a2a-d0458a34173a"
      },
      "execution_count": null,
      "outputs": [
        {
          "output_type": "execute_result",
          "data": {
            "text/plain": [
              "0.8433234053899142"
            ]
          },
          "metadata": {},
          "execution_count": 32
        }
      ]
    },
    {
      "cell_type": "code",
      "source": [
        "np.random.rand(10) # tablica dziesięciu losowo wygenerowanych elementów z rozkładu jednostajnego na przedziale <0, 1>"
      ],
      "metadata": {
        "colab": {
          "base_uri": "https://localhost:8080/"
        },
        "id": "ION5lk_7O7Ok",
        "outputId": "81f77c7f-6e67-454f-fbeb-83220339467c"
      },
      "execution_count": null,
      "outputs": [
        {
          "output_type": "execute_result",
          "data": {
            "text/plain": [
              "array([0.9005864 , 0.37657854, 0.71657664, 0.9181458 , 0.4200413 ,\n",
              "       0.56290745, 0.63404594, 0.59449131, 0.37475465, 0.65383078])"
            ]
          },
          "metadata": {},
          "execution_count": 33
        }
      ]
    },
    {
      "cell_type": "code",
      "source": [
        "np.random.rand(10, 2) # tablica 2-wymiarowa 10x2"
      ],
      "metadata": {
        "colab": {
          "base_uri": "https://localhost:8080/"
        },
        "id": "TsjBKxcIPIxx",
        "outputId": "e205d6c5-928e-4582-be80-cd795b8c7818"
      },
      "execution_count": null,
      "outputs": [
        {
          "output_type": "execute_result",
          "data": {
            "text/plain": [
              "array([[0.80678897, 0.40994627],\n",
              "       [0.81857522, 0.14682224],\n",
              "       [0.81958112, 0.81572207],\n",
              "       [0.29267129, 0.5411947 ],\n",
              "       [0.11669356, 0.53908661],\n",
              "       [0.43491764, 0.90464792],\n",
              "       [0.57718927, 0.18606154],\n",
              "       [0.07200331, 0.17981189],\n",
              "       [0.04227584, 0.02543929],\n",
              "       [0.09774377, 0.62876082]])"
            ]
          },
          "metadata": {},
          "execution_count": 34
        }
      ]
    },
    {
      "cell_type": "code",
      "source": [
        "np.random.randint(10) # losowa liczba całkowita z przedziału <0, 10)"
      ],
      "metadata": {
        "colab": {
          "base_uri": "https://localhost:8080/"
        },
        "id": "Ca-pvKJSQQyH",
        "outputId": "0aa06de9-2d28-433b-92a1-7c39a1de2f1d"
      },
      "execution_count": null,
      "outputs": [
        {
          "output_type": "execute_result",
          "data": {
            "text/plain": [
              "5"
            ]
          },
          "metadata": {},
          "execution_count": 35
        }
      ]
    },
    {
      "cell_type": "code",
      "source": [
        "np.random.randint(low=10, high=101) # losowa liczba całkowita z przedziału <10, 101)"
      ],
      "metadata": {
        "colab": {
          "base_uri": "https://localhost:8080/"
        },
        "id": "rCArUPDoQbvY",
        "outputId": "08f91492-ba83-4e87-d995-3650d83fc9ca"
      },
      "execution_count": null,
      "outputs": [
        {
          "output_type": "execute_result",
          "data": {
            "text/plain": [
              "96"
            ]
          },
          "metadata": {},
          "execution_count": 36
        }
      ]
    },
    {
      "cell_type": "code",
      "source": [
        "np.random.randint(low=10, high=101, size=10) # tablica dziesięciu losowo wygenerowanych liczb całkowitych z przedziału <10, 101)"
      ],
      "metadata": {
        "colab": {
          "base_uri": "https://localhost:8080/"
        },
        "id": "bLbx6PFQQrNh",
        "outputId": "1dfd54bc-c29e-47ba-a767-5aafa3fb307b"
      },
      "execution_count": null,
      "outputs": [
        {
          "output_type": "execute_result",
          "data": {
            "text/plain": [
              "array([85, 60, 95, 47, 32, 83, 50, 71, 38, 26])"
            ]
          },
          "metadata": {},
          "execution_count": 37
        }
      ]
    },
    {
      "cell_type": "code",
      "source": [
        "np.random.choice([4, 2, 1, 3, 5]) # losowy element z listy"
      ],
      "metadata": {
        "colab": {
          "base_uri": "https://localhost:8080/"
        },
        "id": "C5i0CLmBQz3_",
        "outputId": "1a862f3e-6d44-47ad-925d-5fc1bd5f53ce"
      },
      "execution_count": null,
      "outputs": [
        {
          "output_type": "execute_result",
          "data": {
            "text/plain": [
              "np.int64(1)"
            ]
          },
          "metadata": {},
          "execution_count": 40
        }
      ]
    },
    {
      "cell_type": "code",
      "source": [
        "np.random.choice(['python', 'java', 'sql']) # losowy element z listy"
      ],
      "metadata": {
        "colab": {
          "base_uri": "https://localhost:8080/",
          "height": 34
        },
        "id": "zCmlOJ3HRL3O",
        "outputId": "ff26c539-e831-4434-c0b2-0f0fa0b87a04"
      },
      "execution_count": null,
      "outputs": [
        {
          "output_type": "execute_result",
          "data": {
            "text/plain": [
              "np.str_('sql')"
            ],
            "application/vnd.google.colaboratory.intrinsic+json": {
              "type": "string"
            }
          },
          "metadata": {},
          "execution_count": 41
        }
      ]
    },
    {
      "cell_type": "code",
      "source": [
        "data = np.arange(10)\n",
        "data"
      ],
      "metadata": {
        "colab": {
          "base_uri": "https://localhost:8080/"
        },
        "id": "pTTEGXpORnto",
        "outputId": "b7e48f79-7e37-46b5-9880-30c429ffd7c4"
      },
      "execution_count": null,
      "outputs": [
        {
          "output_type": "execute_result",
          "data": {
            "text/plain": [
              "array([0, 1, 2, 3, 4, 5, 6, 7, 8, 9])"
            ]
          },
          "metadata": {},
          "execution_count": 42
        }
      ]
    },
    {
      "cell_type": "code",
      "source": [
        "np.random.shuffle(data) # losowa permutacja. Funkcja działa na oryginale zmiennej! W bibliotece pandas podobna funkcja zachodzi na kopii zmiennej - nie rusza oryginału!\n",
        "data"
      ],
      "metadata": {
        "colab": {
          "base_uri": "https://localhost:8080/"
        },
        "id": "FchdevgdRvvP",
        "outputId": "c71cb6f9-33f8-4c8e-c5a7-5d5da990e78b"
      },
      "execution_count": null,
      "outputs": [
        {
          "output_type": "execute_result",
          "data": {
            "text/plain": [
              "array([6, 5, 3, 4, 0, 7, 1, 2, 8, 9])"
            ]
          },
          "metadata": {},
          "execution_count": 43
        }
      ]
    },
    {
      "cell_type": "markdown",
      "source": [
        "Podstawowe funkcje w bibliotece NumPy"
      ],
      "metadata": {
        "id": "qgkunDYSSY-J"
      }
    },
    {
      "cell_type": "code",
      "source": [
        "np.exp(1) # Funkcja exponent. e do potęgi x"
      ],
      "metadata": {
        "colab": {
          "base_uri": "https://localhost:8080/"
        },
        "id": "IKV3fNG9SYDt",
        "outputId": "4f42426c-9382-49ee-969f-1a6f1f12267d"
      },
      "execution_count": null,
      "outputs": [
        {
          "output_type": "execute_result",
          "data": {
            "text/plain": [
              "np.float64(2.718281828459045)"
            ]
          },
          "metadata": {},
          "execution_count": 44
        }
      ]
    },
    {
      "cell_type": "code",
      "source": [
        "np.sqrt(9) # pierwiastek kwadratowy. Zwraca zawsze w typie float"
      ],
      "metadata": {
        "colab": {
          "base_uri": "https://localhost:8080/"
        },
        "id": "5maBZsyOT4lr",
        "outputId": "0049e91c-399f-42ed-9416-09723e8c4497"
      },
      "execution_count": null,
      "outputs": [
        {
          "output_type": "execute_result",
          "data": {
            "text/plain": [
              "np.float64(3.0)"
            ]
          },
          "metadata": {},
          "execution_count": 45
        }
      ]
    },
    {
      "cell_type": "code",
      "source": [
        "np.all([2, 3, 1]) # funkcja przechodzi po wszystkich elementach listy i bada każdy element, czy zwraca wartość logiczną True, czy False. Wszystkie True -> wynik True"
      ],
      "metadata": {
        "colab": {
          "base_uri": "https://localhost:8080/"
        },
        "id": "cCZEs_pnUK5U",
        "outputId": "aab9f004-6030-49a5-948c-da05bf593a66"
      },
      "execution_count": null,
      "outputs": [
        {
          "output_type": "execute_result",
          "data": {
            "text/plain": [
              "np.True_"
            ]
          },
          "metadata": {},
          "execution_count": 46
        }
      ]
    },
    {
      "cell_type": "code",
      "source": [
        "np.any([0, 0, 0]) # funkcja sprawdza, czy jakikolwiek obiekt jest prawdą - tutaj każdy jest fałszem -> 0"
      ],
      "metadata": {
        "colab": {
          "base_uri": "https://localhost:8080/"
        },
        "id": "NCN1vO-jUvcY",
        "outputId": "9f07049e-7a55-4eca-8ef5-de8201f27fac"
      },
      "execution_count": 7,
      "outputs": [
        {
          "output_type": "execute_result",
          "data": {
            "text/plain": [
              "np.False_"
            ]
          },
          "metadata": {},
          "execution_count": 7
        }
      ]
    },
    {
      "cell_type": "code",
      "source": [
        "A = np.random.rand(5) # 5 wartości z rozkładu jednostajnego\n",
        "A"
      ],
      "metadata": {
        "colab": {
          "base_uri": "https://localhost:8080/"
        },
        "id": "zt9YAajWVQIp",
        "outputId": "1aefcbad-ce86-4b04-e8f1-e3031c725728"
      },
      "execution_count": 15,
      "outputs": [
        {
          "output_type": "execute_result",
          "data": {
            "text/plain": [
              "array([0.66590767, 0.35018836, 0.56648665, 0.61543963, 0.22124149])"
            ]
          },
          "metadata": {},
          "execution_count": 15
        }
      ]
    },
    {
      "cell_type": "code",
      "source": [
        "np.argmax(A) # zwraca indeks największej wartości"
      ],
      "metadata": {
        "colab": {
          "base_uri": "https://localhost:8080/"
        },
        "id": "m5I0LhugVruv",
        "outputId": "a8636c1e-213f-4038-816e-64788c505b25"
      },
      "execution_count": 16,
      "outputs": [
        {
          "output_type": "execute_result",
          "data": {
            "text/plain": [
              "np.int64(0)"
            ]
          },
          "metadata": {},
          "execution_count": 16
        }
      ]
    },
    {
      "cell_type": "code",
      "source": [
        "A[np.argmax(A)] # zwraca największą wartość"
      ],
      "metadata": {
        "colab": {
          "base_uri": "https://localhost:8080/"
        },
        "id": "U8JJZVTDV843",
        "outputId": "dd5e6962-b13b-4d3d-99c4-aed2fb463619"
      },
      "execution_count": 17,
      "outputs": [
        {
          "output_type": "execute_result",
          "data": {
            "text/plain": [
              "np.float64(0.6659076712591298)"
            ]
          },
          "metadata": {},
          "execution_count": 17
        }
      ]
    },
    {
      "cell_type": "code",
      "source": [
        "np.argmin(A) # zwraca indeks najmniejszej wartości"
      ],
      "metadata": {
        "colab": {
          "base_uri": "https://localhost:8080/"
        },
        "id": "mOsHFUCIWN3W",
        "outputId": "5317c9ac-dbe1-4a07-93a9-e7abfe6c965b"
      },
      "execution_count": 18,
      "outputs": [
        {
          "output_type": "execute_result",
          "data": {
            "text/plain": [
              "np.int64(4)"
            ]
          },
          "metadata": {},
          "execution_count": 18
        }
      ]
    },
    {
      "cell_type": "code",
      "source": [
        "np.argsort(A) # zwraca indeksy posortowanych wartości - sortuje rosnąco"
      ],
      "metadata": {
        "colab": {
          "base_uri": "https://localhost:8080/"
        },
        "id": "706qhpXLWTAF",
        "outputId": "d42b0aca-f7ed-4561-ef11-bf45124c4107"
      },
      "execution_count": 19,
      "outputs": [
        {
          "output_type": "execute_result",
          "data": {
            "text/plain": [
              "array([4, 1, 2, 3, 0])"
            ]
          },
          "metadata": {},
          "execution_count": 19
        }
      ]
    },
    {
      "cell_type": "code",
      "source": [
        "np.max(A) # zwraca największą wartość"
      ],
      "metadata": {
        "colab": {
          "base_uri": "https://localhost:8080/"
        },
        "id": "v7svDdlsWg91",
        "outputId": "46de0bf8-30b0-4d5c-a893-cddcb8187570"
      },
      "execution_count": 20,
      "outputs": [
        {
          "output_type": "execute_result",
          "data": {
            "text/plain": [
              "np.float64(0.6659076712591298)"
            ]
          },
          "metadata": {},
          "execution_count": 20
        }
      ]
    },
    {
      "cell_type": "code",
      "source": [
        "np.min(A) # zwraca najmniejszą wartość"
      ],
      "metadata": {
        "colab": {
          "base_uri": "https://localhost:8080/"
        },
        "id": "koDowODFWmMO",
        "outputId": "afa48e09-b065-407e-fe4f-da1d46bd1211"
      },
      "execution_count": 21,
      "outputs": [
        {
          "output_type": "execute_result",
          "data": {
            "text/plain": [
              "np.float64(0.2212414938194126)"
            ]
          },
          "metadata": {},
          "execution_count": 21
        }
      ]
    },
    {
      "cell_type": "code",
      "source": [
        "np.mean(A) # zwraca średnią arytmetyczną"
      ],
      "metadata": {
        "colab": {
          "base_uri": "https://localhost:8080/"
        },
        "id": "GYzb4KrPWsAV",
        "outputId": "a668d591-b5b0-4d47-d43b-ec3eb4776f36"
      },
      "execution_count": 22,
      "outputs": [
        {
          "output_type": "execute_result",
          "data": {
            "text/plain": [
              "np.float64(0.4838527609650691)"
            ]
          },
          "metadata": {},
          "execution_count": 22
        }
      ]
    },
    {
      "cell_type": "code",
      "source": [
        "np.median(A) # mediana"
      ],
      "metadata": {
        "colab": {
          "base_uri": "https://localhost:8080/"
        },
        "id": "FD4TS3z8Wy0k",
        "outputId": "a102fdf7-8886-4a41-ae30-fa5e1db8bf63"
      },
      "execution_count": 23,
      "outputs": [
        {
          "output_type": "execute_result",
          "data": {
            "text/plain": [
              "np.float64(0.5664866479668528)"
            ]
          },
          "metadata": {},
          "execution_count": 23
        }
      ]
    },
    {
      "cell_type": "code",
      "source": [
        "np.std(A) # odchylenie standardowe"
      ],
      "metadata": {
        "colab": {
          "base_uri": "https://localhost:8080/"
        },
        "id": "v-jZtxu-XDOM",
        "outputId": "13264989-5cdc-4a7a-c332-3bf58a9b24ec"
      },
      "execution_count": null,
      "outputs": [
        {
          "output_type": "execute_result",
          "data": {
            "text/plain": [
              "np.float64(0.2838992013095173)"
            ]
          },
          "metadata": {},
          "execution_count": 62
        }
      ]
    },
    {
      "cell_type": "code",
      "source": [
        "R = np.random.randn(100) # wygenerowanie tablicy 100 losowych elementów z rozkładu normalnego standardowego\n",
        "R = R.reshape(10, 10) # zmiana kształtu tablicy na macież (tablica 2-wymiarowa) o kształcie 10x10"
      ],
      "metadata": {
        "colab": {
          "base_uri": "https://localhost:8080/"
        },
        "id": "SouAfHz8j4YM",
        "outputId": "ee7ecc3e-1419-4b64-e3bf-46f006ac4fc9"
      },
      "execution_count": 31,
      "outputs": [
        {
          "output_type": "execute_result",
          "data": {
            "text/plain": [
              "array([[ 0.41979802,  0.40634462,  0.59339776,  2.51667828,  0.52179677,\n",
              "        -1.92530955, -1.89282127,  0.85764051,  2.11253917, -1.2858712 ],\n",
              "       [ 0.39830895, -2.39990264, -0.27418305, -0.01660719, -0.35007344,\n",
              "         0.22406378, -0.38363224, -0.1331579 , -1.25313048, -0.35817071],\n",
              "       [-0.77109948,  0.07248303, -1.71790655, -0.36290535, -0.65919606,\n",
              "         0.35535803,  0.11924274,  0.73615424, -0.65025193, -0.94598013],\n",
              "       [-0.26741887, -0.83528189,  0.02938183,  2.7275215 , -1.45564748,\n",
              "        -0.75859874, -0.49247427, -0.67107275, -0.16150988,  2.90151687],\n",
              "       [ 0.38266816, -1.65305379,  1.08857268,  0.47153643,  0.30042445,\n",
              "        -0.95126442,  0.92469082,  0.57835418,  0.80989169, -0.07132197],\n",
              "       [-0.12458675, -0.13791179,  0.62333632,  1.38557045,  0.97089025,\n",
              "        -0.18226414,  0.56653171,  1.9748369 ,  0.34171004, -1.34202095],\n",
              "       [ 0.60320341, -0.29961234, -0.32581876,  1.15344489,  2.11324367,\n",
              "         1.23828068,  0.34806065, -0.38976724,  0.76728664,  0.10779678],\n",
              "       [-0.70087006, -0.0810469 ,  0.31915481,  0.10621814,  1.32733371,\n",
              "         0.60422256,  1.18758476,  1.18805452,  0.23631554, -0.7398625 ],\n",
              "       [-1.21570403,  1.48668593,  0.412552  , -0.93151524, -0.58265072,\n",
              "         0.35077656, -1.12744017, -0.36296076, -1.36221852,  1.44374501],\n",
              "       [-0.72885924,  0.2737183 , -0.76724139, -0.5283657 , -0.45918641,\n",
              "         0.09372335, -0.35143173,  0.42566456, -0.40123664, -0.27625641]])"
            ]
          },
          "metadata": {},
          "execution_count": 31
        }
      ]
    },
    {
      "cell_type": "code",
      "source": [],
      "metadata": {
        "id": "So8X_V51l1iu"
      },
      "execution_count": null,
      "outputs": []
    }
  ]
}