{
  "nbformat": 4,
  "nbformat_minor": 0,
  "metadata": {
    "colab": {
      "provenance": [],
      "authorship_tag": "ABX9TyM6NbxIVTGZVOGgTSYTka4V",
      "include_colab_link": true
    },
    "kernelspec": {
      "name": "python3",
      "display_name": "Python 3"
    },
    "language_info": {
      "name": "python"
    }
  },
  "cells": [
    {
      "cell_type": "markdown",
      "metadata": {
        "id": "view-in-github",
        "colab_type": "text"
      },
      "source": [
        "<a href=\"https://colab.research.google.com/github/KrisGajda/Data-science-bootcamp-Krakowiak/blob/main/Data_science_exercises.ipynb\" target=\"_parent\"><img src=\"https://colab.research.google.com/assets/colab-badge.svg\" alt=\"Open In Colab\"/></a>"
      ]
    },
    {
      "cell_type": "markdown",
      "source": [
        "Tworzenie obiektu typu array (tablicy)"
      ],
      "metadata": {
        "id": "FSEDFF7wY6o6"
      }
    },
    {
      "cell_type": "code",
      "execution_count": 1,
      "metadata": {
        "colab": {
          "base_uri": "https://localhost:8080/"
        },
        "id": "zAG2yqF3SurV",
        "outputId": "71e18fd9-f8d9-49a8-ade9-be2cf48a5ac8"
      },
      "outputs": [
        {
          "output_type": "execute_result",
          "data": {
            "text/plain": [
              "dtype('float64')"
            ]
          },
          "metadata": {},
          "execution_count": 1
        }
      ],
      "source": [
        "import numpy as np\n",
        "A = np.array([1, 2, 3], dtype='float') # utworzenie tablicy jednowymiarowej typu float\n",
        "A.dtype"
      ]
    },
    {
      "cell_type": "code",
      "source": [
        "A = np.array([24, 120, 220], dtype=np.int16)\n",
        "A.dtype"
      ],
      "metadata": {
        "colab": {
          "base_uri": "https://localhost:8080/"
        },
        "id": "D2erx5ACTx6w",
        "outputId": "e018f213-9101-4680-83a6-a4a83946fb70"
      },
      "execution_count": null,
      "outputs": [
        {
          "output_type": "execute_result",
          "data": {
            "text/plain": [
              "dtype('int16')"
            ]
          },
          "metadata": {},
          "execution_count": 13
        }
      ]
    },
    {
      "cell_type": "code",
      "source": [
        "X = np.zeros(shape=(3, 5)) # utworzenie tablicy zer o kształcie 3x5\n",
        "X"
      ],
      "metadata": {
        "colab": {
          "base_uri": "https://localhost:8080/"
        },
        "id": "EcdSNYjZT63V",
        "outputId": "12193837-1b08-4257-e0f9-1effa96d8bce"
      },
      "execution_count": null,
      "outputs": [
        {
          "output_type": "execute_result",
          "data": {
            "text/plain": [
              "array([[0., 0., 0., 0., 0.],\n",
              "       [0., 0., 0., 0., 0.],\n",
              "       [0., 0., 0., 0., 0.]])"
            ]
          },
          "metadata": {},
          "execution_count": 33
        }
      ]
    },
    {
      "cell_type": "code",
      "source": [
        "E = np.ones(shape=(3, 5)) # utworzenie tablicy jedynek o kształcie 3x5\n",
        "E"
      ],
      "metadata": {
        "colab": {
          "base_uri": "https://localhost:8080/"
        },
        "id": "xNC3R4SXX-b0",
        "outputId": "19885b78-d7c8-494b-b848-c8a12087c3c1"
      },
      "execution_count": null,
      "outputs": [
        {
          "output_type": "execute_result",
          "data": {
            "text/plain": [
              "array([[1., 1., 1., 1., 1.],\n",
              "       [1., 1., 1., 1., 1.],\n",
              "       [1., 1., 1., 1., 1.]])"
            ]
          },
          "metadata": {},
          "execution_count": 35
        }
      ]
    },
    {
      "cell_type": "code",
      "source": [
        "Y = np.full(shape=(5, 5), fill_value=4) # utworzenie tablicy o danym kształcie i wypełnionej określonymi wartościami\n",
        "Y"
      ],
      "metadata": {
        "colab": {
          "base_uri": "https://localhost:8080/"
        },
        "id": "MNIJtQnUX1nx",
        "outputId": "49917887-90ef-44f0-eb9c-0fed088c90d7"
      },
      "execution_count": null,
      "outputs": [
        {
          "output_type": "execute_result",
          "data": {
            "text/plain": [
              "array([[4, 4, 4, 4, 4],\n",
              "       [4, 4, 4, 4, 4],\n",
              "       [4, 4, 4, 4, 4],\n",
              "       [4, 4, 4, 4, 4],\n",
              "       [4, 4, 4, 4, 4]])"
            ]
          },
          "metadata": {},
          "execution_count": 6
        }
      ]
    },
    {
      "cell_type": "code",
      "source": [
        "import numpy as np\n",
        "A = np.arange(120) # utwórz tabelę 120-elementową\n",
        "A.reshape((10, -1)) # ... okształcie: 10 wierszy , dopasuj ilość kolumn (-1)"
      ],
      "metadata": {
        "colab": {
          "base_uri": "https://localhost:8080/"
        },
        "id": "l3DTRUo-YLX8",
        "outputId": "1f43f81b-f53b-4709-c2e1-7f2b654f7060"
      },
      "execution_count": null,
      "outputs": [
        {
          "output_type": "execute_result",
          "data": {
            "text/plain": [
              "array([[  0,   1,   2,   3,   4,   5,   6,   7,   8,   9,  10,  11],\n",
              "       [ 12,  13,  14,  15,  16,  17,  18,  19,  20,  21,  22,  23],\n",
              "       [ 24,  25,  26,  27,  28,  29,  30,  31,  32,  33,  34,  35],\n",
              "       [ 36,  37,  38,  39,  40,  41,  42,  43,  44,  45,  46,  47],\n",
              "       [ 48,  49,  50,  51,  52,  53,  54,  55,  56,  57,  58,  59],\n",
              "       [ 60,  61,  62,  63,  64,  65,  66,  67,  68,  69,  70,  71],\n",
              "       [ 72,  73,  74,  75,  76,  77,  78,  79,  80,  81,  82,  83],\n",
              "       [ 84,  85,  86,  87,  88,  89,  90,  91,  92,  93,  94,  95],\n",
              "       [ 96,  97,  98,  99, 100, 101, 102, 103, 104, 105, 106, 107],\n",
              "       [108, 109, 110, 111, 112, 113, 114, 115, 116, 117, 118, 119]])"
            ]
          },
          "metadata": {},
          "execution_count": 9
        }
      ]
    },
    {
      "cell_type": "code",
      "source": [
        "A.reshape((-1, 12)) # dopasuj ilość wierszy do dwunastu kolumn"
      ],
      "metadata": {
        "colab": {
          "base_uri": "https://localhost:8080/"
        },
        "id": "XJEvHUhkYfvn",
        "outputId": "1b602dfa-b5b5-4f2d-d219-fdc91382a258"
      },
      "execution_count": null,
      "outputs": [
        {
          "output_type": "execute_result",
          "data": {
            "text/plain": [
              "array([[  0,   1,   2,   3,   4,   5,   6,   7,   8,   9,  10,  11],\n",
              "       [ 12,  13,  14,  15,  16,  17,  18,  19,  20,  21,  22,  23],\n",
              "       [ 24,  25,  26,  27,  28,  29,  30,  31,  32,  33,  34,  35],\n",
              "       [ 36,  37,  38,  39,  40,  41,  42,  43,  44,  45,  46,  47],\n",
              "       [ 48,  49,  50,  51,  52,  53,  54,  55,  56,  57,  58,  59],\n",
              "       [ 60,  61,  62,  63,  64,  65,  66,  67,  68,  69,  70,  71],\n",
              "       [ 72,  73,  74,  75,  76,  77,  78,  79,  80,  81,  82,  83],\n",
              "       [ 84,  85,  86,  87,  88,  89,  90,  91,  92,  93,  94,  95],\n",
              "       [ 96,  97,  98,  99, 100, 101, 102, 103, 104, 105, 106, 107],\n",
              "       [108, 109, 110, 111, 112, 113, 114, 115, 116, 117, 118, 119]])"
            ]
          },
          "metadata": {},
          "execution_count": 12
        }
      ]
    },
    {
      "cell_type": "markdown",
      "source": [
        "Działania arytmetyczne na tabelach"
      ],
      "metadata": {
        "id": "4JFo-BEJbfYP"
      }
    },
    {
      "cell_type": "code",
      "source": [
        "A = np.array([3, 1, 4, 2])\n",
        "B = np.array([3, -1, 3, 2])\n",
        "print(A)\n",
        "print(B)"
      ],
      "metadata": {
        "colab": {
          "base_uri": "https://localhost:8080/"
        },
        "id": "l6_MbNi6G1zk",
        "outputId": "72aa0b87-f988-4753-901e-15c364008695"
      },
      "execution_count": null,
      "outputs": [
        {
          "output_type": "stream",
          "name": "stdout",
          "text": [
            "[3 1 4 2]\n",
            "[ 3 -1  3  2]\n"
          ]
        }
      ]
    },
    {
      "cell_type": "code",
      "source": [
        "A+B"
      ],
      "metadata": {
        "colab": {
          "base_uri": "https://localhost:8080/"
        },
        "id": "cCT0SxXQHRrx",
        "outputId": "73417c56-c57b-4eca-9d91-caf1c6b2c383"
      },
      "execution_count": null,
      "outputs": [
        {
          "output_type": "execute_result",
          "data": {
            "text/plain": [
              "array([6, 0, 7, 4])"
            ]
          },
          "metadata": {},
          "execution_count": 14
        }
      ]
    },
    {
      "cell_type": "code",
      "source": [
        "np.add(A, B) # funkcja add() - dodawanie tablic"
      ],
      "metadata": {
        "colab": {
          "base_uri": "https://localhost:8080/"
        },
        "id": "pYgpqBAQH4xn",
        "outputId": "740c7641-e6b6-4f58-dabc-767e8b5e385a"
      },
      "execution_count": null,
      "outputs": [
        {
          "output_type": "execute_result",
          "data": {
            "text/plain": [
              "array([6, 0, 7, 4])"
            ]
          },
          "metadata": {},
          "execution_count": 21
        }
      ]
    },
    {
      "cell_type": "code",
      "source": [
        "A-B"
      ],
      "metadata": {
        "colab": {
          "base_uri": "https://localhost:8080/"
        },
        "id": "VbmpbOqNHWCk",
        "outputId": "34cd553d-d4b5-42ec-a4e2-17743b876f9e"
      },
      "execution_count": null,
      "outputs": [
        {
          "output_type": "execute_result",
          "data": {
            "text/plain": [
              "array([0, 2, 1, 0])"
            ]
          },
          "metadata": {},
          "execution_count": 15
        }
      ]
    },
    {
      "cell_type": "code",
      "source": [
        "np.subtract(A, B) # funkcja substrackt() - odejmownanie tablic"
      ],
      "metadata": {
        "colab": {
          "base_uri": "https://localhost:8080/"
        },
        "id": "6YX69pgcIDgM",
        "outputId": "69246233-31e5-428c-870b-a6c85c017c44"
      },
      "execution_count": null,
      "outputs": [
        {
          "output_type": "execute_result",
          "data": {
            "text/plain": [
              "array([0, 2, 1, 0])"
            ]
          },
          "metadata": {},
          "execution_count": 22
        }
      ]
    },
    {
      "cell_type": "code",
      "source": [
        "A*B"
      ],
      "metadata": {
        "colab": {
          "base_uri": "https://localhost:8080/"
        },
        "id": "Gw_AsXdzHZ5T",
        "outputId": "003e0762-3a79-401d-f45c-5e32f8c1dac3"
      },
      "execution_count": null,
      "outputs": [
        {
          "output_type": "execute_result",
          "data": {
            "text/plain": [
              "array([ 9, -1, 12,  4])"
            ]
          },
          "metadata": {},
          "execution_count": 16
        }
      ]
    },
    {
      "cell_type": "code",
      "source": [
        "np.multiply(A, B) # funkcja multiply() - mnożenie tablic (nie macieżowe!)"
      ],
      "metadata": {
        "colab": {
          "base_uri": "https://localhost:8080/"
        },
        "id": "IDdx2NwnILyH",
        "outputId": "db8298ea-e3a2-4a9a-d5c1-85f1eafcd77f"
      },
      "execution_count": null,
      "outputs": [
        {
          "output_type": "execute_result",
          "data": {
            "text/plain": [
              "array([ 9, -1, 12,  4])"
            ]
          },
          "metadata": {},
          "execution_count": 23
        }
      ]
    },
    {
      "cell_type": "code",
      "source": [
        "A/B"
      ],
      "metadata": {
        "colab": {
          "base_uri": "https://localhost:8080/"
        },
        "id": "CuCIKQlMHfNE",
        "outputId": "6d440c70-2d3d-43d5-c0a1-73400ed40411"
      },
      "execution_count": null,
      "outputs": [
        {
          "output_type": "execute_result",
          "data": {
            "text/plain": [
              "array([ 1.        , -1.        ,  1.33333333,  1.        ])"
            ]
          },
          "metadata": {},
          "execution_count": 17
        }
      ]
    },
    {
      "cell_type": "code",
      "source": [
        "np.divide(A, B) # funcja divide() - dzielenie tablic"
      ],
      "metadata": {
        "colab": {
          "base_uri": "https://localhost:8080/"
        },
        "id": "EL6AU7AxISey",
        "outputId": "1d8f4be0-9e9b-460f-dc54-8180c72fa9e1"
      },
      "execution_count": null,
      "outputs": [
        {
          "output_type": "execute_result",
          "data": {
            "text/plain": [
              "array([ 1.        , -1.        ,  1.33333333,  1.        ])"
            ]
          },
          "metadata": {},
          "execution_count": 24
        }
      ]
    },
    {
      "cell_type": "code",
      "source": [
        "A+3 # dodawanie określonej wartości do każdego elementu tablicy"
      ],
      "metadata": {
        "colab": {
          "base_uri": "https://localhost:8080/"
        },
        "id": "3AlaMgdZHnW8",
        "outputId": "ce371fed-67c4-4fae-9d29-a74f468e2761"
      },
      "execution_count": null,
      "outputs": [
        {
          "output_type": "execute_result",
          "data": {
            "text/plain": [
              "array([6, 4, 7, 5])"
            ]
          },
          "metadata": {},
          "execution_count": 18
        }
      ]
    },
    {
      "cell_type": "code",
      "source": [
        "A*2 # mnożenie przez daną wartość każdego elementu tablicy"
      ],
      "metadata": {
        "colab": {
          "base_uri": "https://localhost:8080/"
        },
        "id": "TxinFF-RHtFH",
        "outputId": "f2d86147-f9bc-4200-bfd9-85478fa293b8"
      },
      "execution_count": null,
      "outputs": [
        {
          "output_type": "execute_result",
          "data": {
            "text/plain": [
              "array([6, 2, 8, 4])"
            ]
          },
          "metadata": {},
          "execution_count": 19
        }
      ]
    },
    {
      "cell_type": "code",
      "source": [
        "A+3*B # dodawanie do tablicy pomnożonej wartości innej tablicy"
      ],
      "metadata": {
        "colab": {
          "base_uri": "https://localhost:8080/"
        },
        "id": "e_dYqhOPHvxE",
        "outputId": "bf85b299-b76d-4acb-d07a-eb6a3fa5b3dc"
      },
      "execution_count": null,
      "outputs": [
        {
          "output_type": "execute_result",
          "data": {
            "text/plain": [
              "array([12, -2, 13,  8])"
            ]
          },
          "metadata": {},
          "execution_count": 20
        }
      ]
    },
    {
      "cell_type": "markdown",
      "source": [
        "Mnożenie macieżowe"
      ],
      "metadata": {
        "id": "8oyzChVbIo5L"
      }
    },
    {
      "cell_type": "code",
      "source": [
        "X = np.array([[1, 3], [-2, 0]])\n",
        "Y = np.array([[6, 0], [-1, 2]])\n",
        "print(X, '\\n')\n",
        "print(Y)"
      ],
      "metadata": {
        "colab": {
          "base_uri": "https://localhost:8080/"
        },
        "id": "kjuxO5RHIroG",
        "outputId": "a1d14d87-6f11-443f-938e-bc9fbd81ca11"
      },
      "execution_count": null,
      "outputs": [
        {
          "output_type": "stream",
          "name": "stdout",
          "text": [
            "[[ 1  3]\n",
            " [-2  0]] \n",
            "\n",
            "[[ 6  0]\n",
            " [-1  2]]\n"
          ]
        }
      ]
    },
    {
      "cell_type": "code",
      "source": [
        "np.dot(X, Y) # mnożenie maacieżowe -> wiersz x kolumna"
      ],
      "metadata": {
        "colab": {
          "base_uri": "https://localhost:8080/"
        },
        "id": "Qgg1PKJmJXqD",
        "outputId": "6094c73d-5128-42c3-836a-d7083b8ab231"
      },
      "execution_count": null,
      "outputs": [
        {
          "output_type": "execute_result",
          "data": {
            "text/plain": [
              "array([[  3,   6],\n",
              "       [-12,   0]])"
            ]
          },
          "metadata": {},
          "execution_count": 26
        }
      ]
    },
    {
      "cell_type": "code",
      "source": [
        "X.dot(Y) # to samo co wyżej - UWAGA mnożenie macieży nie jest przemienne!"
      ],
      "metadata": {
        "colab": {
          "base_uri": "https://localhost:8080/"
        },
        "id": "Ussro5pAJil5",
        "outputId": "bd598a08-4a69-4cf9-fe01-76676b7283d7"
      },
      "execution_count": null,
      "outputs": [
        {
          "output_type": "execute_result",
          "data": {
            "text/plain": [
              "array([[  3,   6],\n",
              "       [-12,   0]])"
            ]
          },
          "metadata": {},
          "execution_count": 27
        }
      ]
    },
    {
      "cell_type": "code",
      "source": [
        "X @ Y # rownież zapis mnożenia macieży"
      ],
      "metadata": {
        "colab": {
          "base_uri": "https://localhost:8080/"
        },
        "id": "xv-u6BnYJzp2",
        "outputId": "dd88bc26-67bc-4b44-ce8c-43c17fb6b1f5"
      },
      "execution_count": null,
      "outputs": [
        {
          "output_type": "execute_result",
          "data": {
            "text/plain": [
              "array([[  3,   6],\n",
              "       [-12,   0]])"
            ]
          },
          "metadata": {},
          "execution_count": 28
        }
      ]
    },
    {
      "cell_type": "markdown",
      "source": [
        "Generowanie liczb pseudolosowych"
      ],
      "metadata": {
        "id": "SxsJV4PyKIz2"
      }
    },
    {
      "cell_type": "code",
      "source": [
        "np.random.seed(0) # ziarno losowania"
      ],
      "metadata": {
        "id": "5LaxAXMwKNhy"
      },
      "execution_count": null,
      "outputs": []
    },
    {
      "cell_type": "code",
      "source": [
        "np.random.randn() # losowy rozkład normalny"
      ],
      "metadata": {
        "colab": {
          "base_uri": "https://localhost:8080/"
        },
        "id": "cBnv-JRAKgGx",
        "outputId": "73a2b32b-cd3b-4a36-f8d8-d63e856c77ad"
      },
      "execution_count": null,
      "outputs": [
        {
          "output_type": "execute_result",
          "data": {
            "text/plain": [
              "-1.4203853924563898"
            ]
          },
          "metadata": {},
          "execution_count": 29
        }
      ]
    },
    {
      "cell_type": "code",
      "source": [
        "np.random.randn(10) # tablica dziesięciu losowo wygenerowanych elementów z rozkładu normalnego standardowego (średnia 0 i odchylenie standardowe 1)"
      ],
      "metadata": {
        "colab": {
          "base_uri": "https://localhost:8080/"
        },
        "id": "w9qmwt1jKsv_",
        "outputId": "a634e158-b846-42f4-aa64-8a9790bd1984"
      },
      "execution_count": null,
      "outputs": [
        {
          "output_type": "execute_result",
          "data": {
            "text/plain": [
              "array([ 1.23112814,  1.38117045,  0.24070787,  0.2663047 , -0.50172243,\n",
              "       -0.69298896,  1.34720025, -1.16822497, -0.68816014, -0.93776055])"
            ]
          },
          "metadata": {},
          "execution_count": 30
        }
      ]
    },
    {
      "cell_type": "code",
      "source": [
        "np.random.randn(10, 4) # macierz 10x4 losowych elementów z rozkładu normalnego standardowego. Może pomóc u stworzeniu histogramów rozkładu normalnego"
      ],
      "metadata": {
        "colab": {
          "base_uri": "https://localhost:8080/"
        },
        "id": "OfyEO7NwLK7e",
        "outputId": "1c14b25e-902a-4fa2-f2cd-e1b885f67b3a"
      },
      "execution_count": null,
      "outputs": [
        {
          "output_type": "execute_result",
          "data": {
            "text/plain": [
              "array([[-1.47121739,  0.53563708,  1.27565831,  0.19329796],\n",
              "       [ 0.06765002,  0.24054598,  0.60582126, -1.14931624],\n",
              "       [-0.42343423,  2.53891024, -0.24200525,  2.63046348],\n",
              "       [ 0.55749314,  0.022744  ,  0.52464761, -0.78699184],\n",
              "       [-0.17945565, -0.72806077,  0.67291054,  1.23191456],\n",
              "       [ 0.39333837,  0.2160677 , -1.33647448, -0.17117138],\n",
              "       [ 1.55204749, -1.04981028,  1.33420541,  1.17723575],\n",
              "       [ 0.41030793, -0.65994486, -1.81798665,  0.39270413],\n",
              "       [ 0.2454609 , -1.08148767,  0.31181014, -1.58643203],\n",
              "       [ 2.0537817 , -1.47306602, -0.48511758, -0.42904267]])"
            ]
          },
          "metadata": {},
          "execution_count": 31
        }
      ]
    },
    {
      "cell_type": "code",
      "source": [
        "np.random.rand() # losowa liczba z przedziału <0, 1). Rozkład jednostajny na przedziale"
      ],
      "metadata": {
        "colab": {
          "base_uri": "https://localhost:8080/"
        },
        "id": "YODAWS8eOZ6R",
        "outputId": "2a7fa519-4861-414a-8a2a-d0458a34173a"
      },
      "execution_count": null,
      "outputs": [
        {
          "output_type": "execute_result",
          "data": {
            "text/plain": [
              "0.8433234053899142"
            ]
          },
          "metadata": {},
          "execution_count": 32
        }
      ]
    },
    {
      "cell_type": "code",
      "source": [
        "np.random.rand(10) # tablica dziesięciu losowo wygenerowanych elementów z rozkładu jednostajnego na przedziale <0, 1>"
      ],
      "metadata": {
        "colab": {
          "base_uri": "https://localhost:8080/"
        },
        "id": "ION5lk_7O7Ok",
        "outputId": "81f77c7f-6e67-454f-fbeb-83220339467c"
      },
      "execution_count": null,
      "outputs": [
        {
          "output_type": "execute_result",
          "data": {
            "text/plain": [
              "array([0.9005864 , 0.37657854, 0.71657664, 0.9181458 , 0.4200413 ,\n",
              "       0.56290745, 0.63404594, 0.59449131, 0.37475465, 0.65383078])"
            ]
          },
          "metadata": {},
          "execution_count": 33
        }
      ]
    },
    {
      "cell_type": "code",
      "source": [
        "np.random.rand(10, 2) # tablica 2-wymiarowa 10x2"
      ],
      "metadata": {
        "colab": {
          "base_uri": "https://localhost:8080/"
        },
        "id": "TsjBKxcIPIxx",
        "outputId": "e205d6c5-928e-4582-be80-cd795b8c7818"
      },
      "execution_count": null,
      "outputs": [
        {
          "output_type": "execute_result",
          "data": {
            "text/plain": [
              "array([[0.80678897, 0.40994627],\n",
              "       [0.81857522, 0.14682224],\n",
              "       [0.81958112, 0.81572207],\n",
              "       [0.29267129, 0.5411947 ],\n",
              "       [0.11669356, 0.53908661],\n",
              "       [0.43491764, 0.90464792],\n",
              "       [0.57718927, 0.18606154],\n",
              "       [0.07200331, 0.17981189],\n",
              "       [0.04227584, 0.02543929],\n",
              "       [0.09774377, 0.62876082]])"
            ]
          },
          "metadata": {},
          "execution_count": 34
        }
      ]
    },
    {
      "cell_type": "code",
      "source": [
        "np.random.randint(10) # losowa liczba całkowita z przedziału <0, 10)"
      ],
      "metadata": {
        "colab": {
          "base_uri": "https://localhost:8080/"
        },
        "id": "Ca-pvKJSQQyH",
        "outputId": "0aa06de9-2d28-433b-92a1-7c39a1de2f1d"
      },
      "execution_count": null,
      "outputs": [
        {
          "output_type": "execute_result",
          "data": {
            "text/plain": [
              "5"
            ]
          },
          "metadata": {},
          "execution_count": 35
        }
      ]
    },
    {
      "cell_type": "code",
      "source": [
        "np.random.randint(low=10, high=101) # losowa liczba całkowita z przedziału <10, 101)"
      ],
      "metadata": {
        "colab": {
          "base_uri": "https://localhost:8080/"
        },
        "id": "rCArUPDoQbvY",
        "outputId": "08f91492-ba83-4e87-d995-3650d83fc9ca"
      },
      "execution_count": null,
      "outputs": [
        {
          "output_type": "execute_result",
          "data": {
            "text/plain": [
              "96"
            ]
          },
          "metadata": {},
          "execution_count": 36
        }
      ]
    },
    {
      "cell_type": "code",
      "source": [
        "np.random.randint(low=10, high=101, size=10) # tablica dziesięciu losowo wygenerowanych liczb całkowitych z przedziału <10, 101)"
      ],
      "metadata": {
        "colab": {
          "base_uri": "https://localhost:8080/"
        },
        "id": "bLbx6PFQQrNh",
        "outputId": "1dfd54bc-c29e-47ba-a767-5aafa3fb307b"
      },
      "execution_count": null,
      "outputs": [
        {
          "output_type": "execute_result",
          "data": {
            "text/plain": [
              "array([85, 60, 95, 47, 32, 83, 50, 71, 38, 26])"
            ]
          },
          "metadata": {},
          "execution_count": 37
        }
      ]
    },
    {
      "cell_type": "code",
      "source": [
        "np.random.choice([4, 2, 1, 3, 5]) # losowy element z listy"
      ],
      "metadata": {
        "colab": {
          "base_uri": "https://localhost:8080/"
        },
        "id": "C5i0CLmBQz3_",
        "outputId": "1a862f3e-6d44-47ad-925d-5fc1bd5f53ce"
      },
      "execution_count": null,
      "outputs": [
        {
          "output_type": "execute_result",
          "data": {
            "text/plain": [
              "np.int64(1)"
            ]
          },
          "metadata": {},
          "execution_count": 40
        }
      ]
    },
    {
      "cell_type": "code",
      "source": [
        "np.random.choice(['python', 'java', 'sql']) # losowy element z listy"
      ],
      "metadata": {
        "colab": {
          "base_uri": "https://localhost:8080/",
          "height": 34
        },
        "id": "zCmlOJ3HRL3O",
        "outputId": "ff26c539-e831-4434-c0b2-0f0fa0b87a04"
      },
      "execution_count": null,
      "outputs": [
        {
          "output_type": "execute_result",
          "data": {
            "text/plain": [
              "np.str_('sql')"
            ],
            "application/vnd.google.colaboratory.intrinsic+json": {
              "type": "string"
            }
          },
          "metadata": {},
          "execution_count": 41
        }
      ]
    },
    {
      "cell_type": "code",
      "source": [
        "data = np.arange(10)\n",
        "data"
      ],
      "metadata": {
        "colab": {
          "base_uri": "https://localhost:8080/"
        },
        "id": "pTTEGXpORnto",
        "outputId": "b7e48f79-7e37-46b5-9880-30c429ffd7c4"
      },
      "execution_count": null,
      "outputs": [
        {
          "output_type": "execute_result",
          "data": {
            "text/plain": [
              "array([0, 1, 2, 3, 4, 5, 6, 7, 8, 9])"
            ]
          },
          "metadata": {},
          "execution_count": 42
        }
      ]
    },
    {
      "cell_type": "code",
      "source": [
        "np.random.shuffle(data) # losowa permutacja. Funkcja działa na oryginale zmiennej! W bibliotece pandas podobna funkcja zachodzi na kopii zmiennej - nie rusza oryginału!\n",
        "data"
      ],
      "metadata": {
        "colab": {
          "base_uri": "https://localhost:8080/"
        },
        "id": "FchdevgdRvvP",
        "outputId": "c71cb6f9-33f8-4c8e-c5a7-5d5da990e78b"
      },
      "execution_count": null,
      "outputs": [
        {
          "output_type": "execute_result",
          "data": {
            "text/plain": [
              "array([6, 5, 3, 4, 0, 7, 1, 2, 8, 9])"
            ]
          },
          "metadata": {},
          "execution_count": 43
        }
      ]
    },
    {
      "cell_type": "markdown",
      "source": [
        "Podstawowe funkcje w bibliotece NumPy"
      ],
      "metadata": {
        "id": "qgkunDYSSY-J"
      }
    },
    {
      "cell_type": "code",
      "source": [
        "np.exp(1) # Funkcja exponent. e do potęgi x"
      ],
      "metadata": {
        "colab": {
          "base_uri": "https://localhost:8080/"
        },
        "id": "IKV3fNG9SYDt",
        "outputId": "4f42426c-9382-49ee-969f-1a6f1f12267d"
      },
      "execution_count": null,
      "outputs": [
        {
          "output_type": "execute_result",
          "data": {
            "text/plain": [
              "np.float64(2.718281828459045)"
            ]
          },
          "metadata": {},
          "execution_count": 44
        }
      ]
    },
    {
      "cell_type": "code",
      "source": [
        "np.sqrt(9) # pierwiastek kwadratowy. Zwraca zawsze w typie float"
      ],
      "metadata": {
        "colab": {
          "base_uri": "https://localhost:8080/"
        },
        "id": "5maBZsyOT4lr",
        "outputId": "0049e91c-399f-42ed-9416-09723e8c4497"
      },
      "execution_count": null,
      "outputs": [
        {
          "output_type": "execute_result",
          "data": {
            "text/plain": [
              "np.float64(3.0)"
            ]
          },
          "metadata": {},
          "execution_count": 45
        }
      ]
    },
    {
      "cell_type": "code",
      "source": [
        "np.all([2, 3, 1]) # funkcja przechodzi po wszystkich elementach listy i bada każdy element, czy zwraca wartość logiczną True, czy False. Wszystkie True -> wynik True"
      ],
      "metadata": {
        "colab": {
          "base_uri": "https://localhost:8080/"
        },
        "id": "cCZEs_pnUK5U",
        "outputId": "aab9f004-6030-49a5-948c-da05bf593a66"
      },
      "execution_count": null,
      "outputs": [
        {
          "output_type": "execute_result",
          "data": {
            "text/plain": [
              "np.True_"
            ]
          },
          "metadata": {},
          "execution_count": 46
        }
      ]
    },
    {
      "cell_type": "code",
      "source": [
        "np.any([0, 0, 0]) # funkcja sprawdza, czy jakikolwiek obiekt jest prawdą - tutaj każdy jest fałszem -> 0"
      ],
      "metadata": {
        "colab": {
          "base_uri": "https://localhost:8080/"
        },
        "id": "NCN1vO-jUvcY",
        "outputId": "9f07049e-7a55-4eca-8ef5-de8201f27fac"
      },
      "execution_count": null,
      "outputs": [
        {
          "output_type": "execute_result",
          "data": {
            "text/plain": [
              "np.False_"
            ]
          },
          "metadata": {},
          "execution_count": 7
        }
      ]
    },
    {
      "cell_type": "code",
      "source": [
        "A = np.random.rand(5) # 5 wartości z rozkładu jednostajnego\n",
        "A"
      ],
      "metadata": {
        "colab": {
          "base_uri": "https://localhost:8080/"
        },
        "id": "zt9YAajWVQIp",
        "outputId": "1aefcbad-ce86-4b04-e8f1-e3031c725728"
      },
      "execution_count": null,
      "outputs": [
        {
          "output_type": "execute_result",
          "data": {
            "text/plain": [
              "array([0.66590767, 0.35018836, 0.56648665, 0.61543963, 0.22124149])"
            ]
          },
          "metadata": {},
          "execution_count": 15
        }
      ]
    },
    {
      "cell_type": "code",
      "source": [
        "np.argmax(A) # zwraca indeks największej wartości"
      ],
      "metadata": {
        "colab": {
          "base_uri": "https://localhost:8080/"
        },
        "id": "m5I0LhugVruv",
        "outputId": "a8636c1e-213f-4038-816e-64788c505b25"
      },
      "execution_count": null,
      "outputs": [
        {
          "output_type": "execute_result",
          "data": {
            "text/plain": [
              "np.int64(0)"
            ]
          },
          "metadata": {},
          "execution_count": 16
        }
      ]
    },
    {
      "cell_type": "code",
      "source": [
        "A[np.argmax(A)] # zwraca największą wartość"
      ],
      "metadata": {
        "colab": {
          "base_uri": "https://localhost:8080/"
        },
        "id": "U8JJZVTDV843",
        "outputId": "dd5e6962-b13b-4d3d-99c4-aed2fb463619"
      },
      "execution_count": null,
      "outputs": [
        {
          "output_type": "execute_result",
          "data": {
            "text/plain": [
              "np.float64(0.6659076712591298)"
            ]
          },
          "metadata": {},
          "execution_count": 17
        }
      ]
    },
    {
      "cell_type": "code",
      "source": [
        "np.argmin(A) # zwraca indeks najmniejszej wartości"
      ],
      "metadata": {
        "colab": {
          "base_uri": "https://localhost:8080/"
        },
        "id": "mOsHFUCIWN3W",
        "outputId": "5317c9ac-dbe1-4a07-93a9-e7abfe6c965b"
      },
      "execution_count": null,
      "outputs": [
        {
          "output_type": "execute_result",
          "data": {
            "text/plain": [
              "np.int64(4)"
            ]
          },
          "metadata": {},
          "execution_count": 18
        }
      ]
    },
    {
      "cell_type": "code",
      "source": [
        "np.argsort(A) # zwraca indeksy posortowanych wartości - sortuje rosnąco"
      ],
      "metadata": {
        "colab": {
          "base_uri": "https://localhost:8080/"
        },
        "id": "706qhpXLWTAF",
        "outputId": "d42b0aca-f7ed-4561-ef11-bf45124c4107"
      },
      "execution_count": null,
      "outputs": [
        {
          "output_type": "execute_result",
          "data": {
            "text/plain": [
              "array([4, 1, 2, 3, 0])"
            ]
          },
          "metadata": {},
          "execution_count": 19
        }
      ]
    },
    {
      "cell_type": "code",
      "source": [
        "np.max(A) # zwraca największą wartość"
      ],
      "metadata": {
        "colab": {
          "base_uri": "https://localhost:8080/"
        },
        "id": "v7svDdlsWg91",
        "outputId": "46de0bf8-30b0-4d5c-a893-cddcb8187570"
      },
      "execution_count": null,
      "outputs": [
        {
          "output_type": "execute_result",
          "data": {
            "text/plain": [
              "np.float64(0.6659076712591298)"
            ]
          },
          "metadata": {},
          "execution_count": 20
        }
      ]
    },
    {
      "cell_type": "code",
      "source": [
        "np.min(A) # zwraca najmniejszą wartość"
      ],
      "metadata": {
        "colab": {
          "base_uri": "https://localhost:8080/"
        },
        "id": "koDowODFWmMO",
        "outputId": "afa48e09-b065-407e-fe4f-da1d46bd1211"
      },
      "execution_count": null,
      "outputs": [
        {
          "output_type": "execute_result",
          "data": {
            "text/plain": [
              "np.float64(0.2212414938194126)"
            ]
          },
          "metadata": {},
          "execution_count": 21
        }
      ]
    },
    {
      "cell_type": "code",
      "source": [
        "np.mean(A) # zwraca średnią arytmetyczną"
      ],
      "metadata": {
        "colab": {
          "base_uri": "https://localhost:8080/"
        },
        "id": "GYzb4KrPWsAV",
        "outputId": "a668d591-b5b0-4d47-d43b-ec3eb4776f36"
      },
      "execution_count": null,
      "outputs": [
        {
          "output_type": "execute_result",
          "data": {
            "text/plain": [
              "np.float64(0.4838527609650691)"
            ]
          },
          "metadata": {},
          "execution_count": 22
        }
      ]
    },
    {
      "cell_type": "code",
      "source": [
        "np.median(A) # mediana"
      ],
      "metadata": {
        "colab": {
          "base_uri": "https://localhost:8080/"
        },
        "id": "FD4TS3z8Wy0k",
        "outputId": "a102fdf7-8886-4a41-ae30-fa5e1db8bf63"
      },
      "execution_count": null,
      "outputs": [
        {
          "output_type": "execute_result",
          "data": {
            "text/plain": [
              "np.float64(0.5664866479668528)"
            ]
          },
          "metadata": {},
          "execution_count": 23
        }
      ]
    },
    {
      "cell_type": "code",
      "source": [
        "np.std(A) # odchylenie standardowe"
      ],
      "metadata": {
        "colab": {
          "base_uri": "https://localhost:8080/"
        },
        "id": "v-jZtxu-XDOM",
        "outputId": "13264989-5cdc-4a7a-c332-3bf58a9b24ec"
      },
      "execution_count": null,
      "outputs": [
        {
          "output_type": "execute_result",
          "data": {
            "text/plain": [
              "np.float64(0.2838992013095173)"
            ]
          },
          "metadata": {},
          "execution_count": 62
        }
      ]
    },
    {
      "cell_type": "markdown",
      "source": [
        "Indeksowanie, wycinanie danych"
      ],
      "metadata": {
        "id": "OXcntfBuD3J0"
      }
    },
    {
      "cell_type": "code",
      "source": [
        "R = np.random.randn(100) # wygenerowanie tablicy 100 losowych elementów z rozkładu normalnego standardowego\n",
        "R = R.reshape(10, 10) # zmiana kształtu tablicy na macież (tablica 2-wymiarowa) o kształcie 10x10\n",
        "R"
      ],
      "metadata": {
        "colab": {
          "base_uri": "https://localhost:8080/"
        },
        "id": "SouAfHz8j4YM",
        "outputId": "c82d3911-45b0-44aa-f4bd-80fe4b979c7e"
      },
      "execution_count": null,
      "outputs": [
        {
          "output_type": "execute_result",
          "data": {
            "text/plain": [
              "array([[ 0.14736869,  1.60030513,  1.08979824, -0.81061051,  0.39920186,\n",
              "        -0.38314549,  3.4449345 , -0.21076715, -0.73907123, -1.26874564],\n",
              "       [-1.127741  , -1.27545693,  0.08011226, -1.75574992, -0.45495324,\n",
              "         0.86339758,  1.83734393,  1.23949003, -0.837993  , -1.67161522],\n",
              "       [ 0.18065208, -0.06457892, -0.92332697,  0.04913395,  0.66668419,\n",
              "         0.53106387,  0.93647113, -0.36361412, -1.85585521,  0.55841812],\n",
              "       [-0.39894505, -1.12141873, -0.24119549, -0.17455319,  1.36553549,\n",
              "        -1.48450598, -0.12446214,  1.67526361,  0.89918103,  0.34001366],\n",
              "       [-1.42359437,  0.18667371,  0.52936991, -2.12252225,  0.16984852,\n",
              "        -0.36892098, -0.19689091,  0.05017624, -0.26883633,  0.09584642],\n",
              "       [-0.32646454, -0.44166508,  2.38175426, -0.68983037, -0.43082332,\n",
              "         1.03766722, -0.7605095 , -0.27530133,  0.34494126, -0.5667757 ],\n",
              "       [-0.39829356,  0.88437896, -0.85418425, -0.69631441,  0.19215212,\n",
              "         0.75985367, -0.07478833, -1.31876623, -0.85272164, -0.02180219],\n",
              "       [ 1.31254493, -0.2863171 , -0.59631785,  0.45293926, -0.21510006,\n",
              "         0.27340583, -0.01415388,  0.92251307,  1.03252423, -0.38629593],\n",
              "       [ 0.13741689,  0.55500534, -0.66853156, -0.31284722, -0.45839935,\n",
              "        -0.999341  ,  0.49259231,  1.17358581, -0.97846341,  2.53621396],\n",
              "       [ 0.04390206,  2.94956668, -0.05473365, -1.1183232 , -0.05728356,\n",
              "         0.08569946, -0.1538049 , -0.7125927 ,  1.63543518,  0.88302461]])"
            ]
          },
          "metadata": {},
          "execution_count": 11
        }
      ]
    },
    {
      "cell_type": "code",
      "source": [
        "R[0] # wycięcie elementu \"zerowego\" (index) tablicy R, czyli tutaj pierwszego wiersza tablicy R"
      ],
      "metadata": {
        "colab": {
          "base_uri": "https://localhost:8080/"
        },
        "id": "So8X_V51l1iu",
        "outputId": "11b24e57-b9ca-404d-c604-fb0f621e8894"
      },
      "execution_count": null,
      "outputs": [
        {
          "output_type": "execute_result",
          "data": {
            "text/plain": [
              "array([ 0.14736869,  1.60030513,  1.08979824, -0.81061051,  0.39920186,\n",
              "       -0.38314549,  3.4449345 , -0.21076715, -0.73907123, -1.26874564])"
            ]
          },
          "metadata": {},
          "execution_count": 12
        }
      ]
    },
    {
      "cell_type": "code",
      "source": [
        "R[1:3] # wycięcie wierszy o indeksach od 1 do 2 (bez 3!);\n",
        "# R[:stop] - wszystkie indeksy od początku do stop-1;\n",
        "# R[start:] - wszystkie indeksy od wybranego do końca"
      ],
      "metadata": {
        "colab": {
          "base_uri": "https://localhost:8080/"
        },
        "id": "LShuLNiDEJcR",
        "outputId": "7c70a4a0-401a-4cf8-8876-c915e92e51d5"
      },
      "execution_count": null,
      "outputs": [
        {
          "output_type": "execute_result",
          "data": {
            "text/plain": [
              "array([[-1.127741  , -1.27545693,  0.08011226, -1.75574992, -0.45495324,\n",
              "         0.86339758,  1.83734393,  1.23949003, -0.837993  , -1.67161522],\n",
              "       [ 0.18065208, -0.06457892, -0.92332697,  0.04913395,  0.66668419,\n",
              "         0.53106387,  0.93647113, -0.36361412, -1.85585521,  0.55841812]])"
            ]
          },
          "metadata": {},
          "execution_count": 13
        }
      ]
    },
    {
      "cell_type": "code",
      "source": [
        "R[1, 3] # wycina wartość z wiersza o indexie 1 i wartość kolumny o indeksie 3"
      ],
      "metadata": {
        "colab": {
          "base_uri": "https://localhost:8080/"
        },
        "id": "Y6fDlSh4FKKE",
        "outputId": "4b10d8f7-7037-4f0a-b8a2-41646eba348e"
      },
      "execution_count": null,
      "outputs": [
        {
          "output_type": "execute_result",
          "data": {
            "text/plain": [
              "np.float64(-1.7557499218466404)"
            ]
          },
          "metadata": {},
          "execution_count": 14
        }
      ]
    },
    {
      "cell_type": "code",
      "source": [
        "Z = R[0] # wycina 0 element tablicy R (mamy więc tablicę 1-wymiarową)\n",
        "Z\n",
        "Z[[0, 2, 4, 6]] # wycina elementy o indeksach 0 i 2 z nowej tablicy Z"
      ],
      "metadata": {
        "colab": {
          "base_uri": "https://localhost:8080/"
        },
        "id": "aNgfV5DxFlol",
        "outputId": "b46a2e06-70da-422d-f1ed-96edadb7fa8a"
      },
      "execution_count": null,
      "outputs": [
        {
          "output_type": "execute_result",
          "data": {
            "text/plain": [
              "array([0.14736869, 1.08979824, 0.39920186, 3.4449345 ])"
            ]
          },
          "metadata": {},
          "execution_count": 17
        }
      ]
    },
    {
      "cell_type": "code",
      "source": [
        "Z[-1] # zwraca ostatni element tablicy"
      ],
      "metadata": {
        "colab": {
          "base_uri": "https://localhost:8080/"
        },
        "id": "Y9NRXWYvHJqd",
        "outputId": "62b3061a-f069-4110-80bf-ebf635d03cd9"
      },
      "execution_count": null,
      "outputs": [
        {
          "output_type": "execute_result",
          "data": {
            "text/plain": [
              "np.float64(-1.268745638916911)"
            ]
          },
          "metadata": {},
          "execution_count": 18
        }
      ]
    },
    {
      "cell_type": "code",
      "source": [
        "R[:, 1] # wycięcie kolumny o indeksie 1"
      ],
      "metadata": {
        "colab": {
          "base_uri": "https://localhost:8080/"
        },
        "id": "A7nV3aTTH87t",
        "outputId": "f9e04102-332e-4e4a-880a-34f57cc120b4"
      },
      "execution_count": null,
      "outputs": [
        {
          "output_type": "execute_result",
          "data": {
            "text/plain": [
              "array([ 0.14736869, -1.127741  ,  0.18065208, -0.39894505, -1.42359437,\n",
              "       -0.32646454, -0.39829356,  1.31254493,  0.13741689,  0.04390206])"
            ]
          },
          "metadata": {},
          "execution_count": 19
        }
      ]
    },
    {
      "cell_type": "code",
      "source": [
        "L = np.random.randint(low=0, high=30, size=20)\n",
        "L\n",
        "L = L.reshape(4, 5)\n",
        "L\n"
      ],
      "metadata": {
        "colab": {
          "base_uri": "https://localhost:8080/"
        },
        "id": "E2TQCE0bIpE8",
        "outputId": "8bb3d45a-5d85-4142-c3e9-134488a8edfc"
      },
      "execution_count": 12,
      "outputs": [
        {
          "output_type": "execute_result",
          "data": {
            "text/plain": [
              "array([[28,  4, 24, 25, 18],\n",
              "       [24, 11,  7, 12, 22],\n",
              "       [ 5,  4, 27,  1, 14],\n",
              "       [14, 13, 10, 24, 25]])"
            ]
          },
          "metadata": {},
          "execution_count": 12
        }
      ]
    },
    {
      "cell_type": "code",
      "source": [
        "M = L[1:3, 1:4] # wycięcie z tablicy L wartości z wierszy o indeksach 1-2 i kolumn o indeksach 1-3"
      ],
      "metadata": {
        "id": "QogmLqb9Jvv1"
      },
      "execution_count": 11,
      "outputs": []
    },
    {
      "cell_type": "code",
      "source": [
        "M"
      ],
      "metadata": {
        "colab": {
          "base_uri": "https://localhost:8080/"
        },
        "id": "N9zHeTcGqknH",
        "outputId": "b2171337-0778-4592-882b-35d7495bdfd3"
      },
      "execution_count": 13,
      "outputs": [
        {
          "output_type": "execute_result",
          "data": {
            "text/plain": [
              "array([[15,  4,  5],\n",
              "       [10,  1, 28]])"
            ]
          },
          "metadata": {},
          "execution_count": 13
        }
      ]
    },
    {
      "cell_type": "code",
      "source": [
        "M[1, 1] = 20 # przypisanie do indeksu 1,1 tablicy M wartości 20\n",
        "M"
      ],
      "metadata": {
        "colab": {
          "base_uri": "https://localhost:8080/"
        },
        "id": "PEYeMc7xrEFF",
        "outputId": "974dfb04-4817-400b-892d-36ed37217057"
      },
      "execution_count": 14,
      "outputs": [
        {
          "output_type": "execute_result",
          "data": {
            "text/plain": [
              "array([[15,  4,  5],\n",
              "       [10, 20, 28]])"
            ]
          },
          "metadata": {},
          "execution_count": 14
        }
      ]
    },
    {
      "cell_type": "markdown",
      "source": [
        "Iteracja po tablicach"
      ],
      "metadata": {
        "id": "UdUOM0a5rZn_"
      }
    },
    {
      "cell_type": "code",
      "source": [
        "L = np.random.randint(low=0, high=30, size=20)\n",
        "L = L.reshape(4, 5)\n",
        "L\n"
      ],
      "metadata": {
        "colab": {
          "base_uri": "https://localhost:8080/"
        },
        "id": "TkyqcMslrh62",
        "outputId": "9db6ace7-3a94-4baf-ac67-6e9369c3bcbe"
      },
      "execution_count": 17,
      "outputs": [
        {
          "output_type": "execute_result",
          "data": {
            "text/plain": [
              "array([[ 1, 23, 23,  7, 20],\n",
              "       [26, 25, 17, 18, 20],\n",
              "       [24, 29,  6, 24, 22],\n",
              "       [ 7, 26, 15, 25, 10]])"
            ]
          },
          "metadata": {},
          "execution_count": 17
        }
      ]
    },
    {
      "cell_type": "code",
      "source": [
        "for row in L: # iteracja po wierszu\n",
        "  print(row)"
      ],
      "metadata": {
        "colab": {
          "base_uri": "https://localhost:8080/"
        },
        "id": "2Po03ihMr_Sx",
        "outputId": "92996250-dc63-4fad-fe8a-2fda1d34190e"
      },
      "execution_count": 18,
      "outputs": [
        {
          "output_type": "stream",
          "name": "stdout",
          "text": [
            "[ 1 23 23  7 20]\n",
            "[26 25 17 18 20]\n",
            "[24 29  6 24 22]\n",
            "[ 7 26 15 25 10]\n"
          ]
        }
      ]
    },
    {
      "cell_type": "code",
      "source": [
        "for row in L:\n",
        "  print(row[1]) # iteracja po elementach wierszy o wybranym indeksie"
      ],
      "metadata": {
        "colab": {
          "base_uri": "https://localhost:8080/"
        },
        "id": "jDZ2L6yCsVtx",
        "outputId": "ea478865-0a45-4d79-d8c3-0568d23440cd"
      },
      "execution_count": 19,
      "outputs": [
        {
          "output_type": "stream",
          "name": "stdout",
          "text": [
            "23\n",
            "25\n",
            "29\n",
            "26\n"
          ]
        }
      ]
    },
    {
      "cell_type": "code",
      "source": [
        "for row in L: # iteracja po wierszu\n",
        "  print(row[:3]) # iteracja po 3 pierwszych wierszach"
      ],
      "metadata": {
        "colab": {
          "base_uri": "https://localhost:8080/"
        },
        "id": "pBB-wVX0swRs",
        "outputId": "09cda5c3-0947-477f-d03c-5a9b96216871"
      },
      "execution_count": 20,
      "outputs": [
        {
          "output_type": "stream",
          "name": "stdout",
          "text": [
            "[ 1 23 23]\n",
            "[26 25 17]\n",
            "[24 29  6]\n",
            "[ 7 26 15]\n"
          ]
        }
      ]
    },
    {
      "cell_type": "code",
      "source": [
        "for item in L.flat: # iterowanie po każdym elemencie tablicy po wypłaszczeniu tablicy (flat() )\n",
        "  print(item)"
      ],
      "metadata": {
        "colab": {
          "base_uri": "https://localhost:8080/"
        },
        "id": "I4vIytE0s-SZ",
        "outputId": "7d17f2b5-96b7-4e72-dd65-04dd75fccca4"
      },
      "execution_count": 22,
      "outputs": [
        {
          "output_type": "stream",
          "name": "stdout",
          "text": [
            "1\n",
            "23\n",
            "23\n",
            "7\n",
            "20\n",
            "26\n",
            "25\n",
            "17\n",
            "18\n",
            "20\n",
            "24\n",
            "29\n",
            "6\n",
            "24\n",
            "22\n",
            "7\n",
            "26\n",
            "15\n",
            "25\n",
            "10\n"
          ]
        }
      ]
    },
    {
      "cell_type": "markdown",
      "source": [
        "Zmiana rozmiaru tablic"
      ],
      "metadata": {
        "id": "bmu5oUqWtmTR"
      }
    },
    {
      "cell_type": "code",
      "source": [
        "L = np.random.randint(low=0, high=30, size=20)\n",
        "L = L.reshape(4, 5)\n",
        "L"
      ],
      "metadata": {
        "colab": {
          "base_uri": "https://localhost:8080/"
        },
        "id": "UeQQeOLHtoRc",
        "outputId": "0afc9de2-59fc-4563-9faf-5fdf73c3e2a4"
      },
      "execution_count": 23,
      "outputs": [
        {
          "output_type": "execute_result",
          "data": {
            "text/plain": [
              "array([[13,  4, 24, 13,  3],\n",
              "       [ 0, 23, 20, 27, 13],\n",
              "       [29, 21, 10,  9,  9],\n",
              "       [25, 18, 11, 12,  4]])"
            ]
          },
          "metadata": {},
          "execution_count": 23
        }
      ]
    },
    {
      "cell_type": "code",
      "source": [
        "L.reshape(5, 4)"
      ],
      "metadata": {
        "colab": {
          "base_uri": "https://localhost:8080/"
        },
        "id": "VltPXj5zts30",
        "outputId": "e550e8eb-11f4-4c23-894e-1d1361053323"
      },
      "execution_count": 25,
      "outputs": [
        {
          "output_type": "execute_result",
          "data": {
            "text/plain": [
              "array([[13,  4, 24, 13],\n",
              "       [ 3,  0, 23, 20],\n",
              "       [27, 13, 29, 21],\n",
              "       [10,  9,  9, 25],\n",
              "       [18, 11, 12,  4]])"
            ]
          },
          "metadata": {},
          "execution_count": 25
        }
      ]
    },
    {
      "cell_type": "code",
      "source": [
        "L.ravel() # funkcja ravel() wypłaszcza tablicę"
      ],
      "metadata": {
        "colab": {
          "base_uri": "https://localhost:8080/"
        },
        "id": "lWJ9KKm2t7aX",
        "outputId": "69484bbf-865d-466f-db88-7148a97191ab"
      },
      "execution_count": 26,
      "outputs": [
        {
          "output_type": "execute_result",
          "data": {
            "text/plain": [
              "array([13,  4, 24, 13,  3,  0, 23, 20, 27, 13, 29, 21, 10,  9,  9, 25, 18,\n",
              "       11, 12,  4])"
            ]
          },
          "metadata": {},
          "execution_count": 26
        }
      ]
    },
    {
      "cell_type": "code",
      "source": [
        "L.T # transponowanie tablicy - zamiana wierszy na kolumny"
      ],
      "metadata": {
        "id": "8_pXKMhzuKB-"
      },
      "execution_count": null,
      "outputs": []
    },
    {
      "cell_type": "markdown",
      "source": [
        "Maski logiczne"
      ],
      "metadata": {
        "id": "uaA3cCQLucpY"
      }
    },
    {
      "cell_type": "code",
      "source": [
        "A = np.arange(start = -10, stop = 10, step = 0.5)\n",
        "A = A.reshape(10, -1)\n",
        "A"
      ],
      "metadata": {
        "colab": {
          "base_uri": "https://localhost:8080/"
        },
        "id": "6Xroi7OhuedK",
        "outputId": "bdfa200f-40cc-4291-dbb3-e74ce143a2ef"
      },
      "execution_count": 28,
      "outputs": [
        {
          "output_type": "execute_result",
          "data": {
            "text/plain": [
              "array([[-10. ,  -9.5,  -9. ,  -8.5],\n",
              "       [ -8. ,  -7.5,  -7. ,  -6.5],\n",
              "       [ -6. ,  -5.5,  -5. ,  -4.5],\n",
              "       [ -4. ,  -3.5,  -3. ,  -2.5],\n",
              "       [ -2. ,  -1.5,  -1. ,  -0.5],\n",
              "       [  0. ,   0.5,   1. ,   1.5],\n",
              "       [  2. ,   2.5,   3. ,   3.5],\n",
              "       [  4. ,   4.5,   5. ,   5.5],\n",
              "       [  6. ,   6.5,   7. ,   7.5],\n",
              "       [  8. ,   8.5,   9. ,   9.5]])"
            ]
          },
          "metadata": {},
          "execution_count": 28
        }
      ]
    },
    {
      "cell_type": "code",
      "source": [
        "A>0 # nałożona maska logiczna z określonym warunkiem - zwraca True lub False w zależności od spełnionego warunku"
      ],
      "metadata": {
        "colab": {
          "base_uri": "https://localhost:8080/"
        },
        "id": "IgJJmgpDu136",
        "outputId": "f2b20959-561f-4dda-8bd1-d11c56ee4054"
      },
      "execution_count": 29,
      "outputs": [
        {
          "output_type": "execute_result",
          "data": {
            "text/plain": [
              "array([[False, False, False, False],\n",
              "       [False, False, False, False],\n",
              "       [False, False, False, False],\n",
              "       [False, False, False, False],\n",
              "       [False, False, False, False],\n",
              "       [False,  True,  True,  True],\n",
              "       [ True,  True,  True,  True],\n",
              "       [ True,  True,  True,  True],\n",
              "       [ True,  True,  True,  True],\n",
              "       [ True,  True,  True,  True]])"
            ]
          },
          "metadata": {},
          "execution_count": 29
        }
      ]
    },
    {
      "cell_type": "code",
      "source": [
        "A[A > 0] # wycięcie z tablicy określonych wartości w zależności od spełnienia warunku"
      ],
      "metadata": {
        "colab": {
          "base_uri": "https://localhost:8080/"
        },
        "id": "TegAjIEIu49L",
        "outputId": "cbdf55cc-734b-4a3a-ec64-43f685c349ff"
      },
      "execution_count": 30,
      "outputs": [
        {
          "output_type": "execute_result",
          "data": {
            "text/plain": [
              "array([0.5, 1. , 1.5, 2. , 2.5, 3. , 3.5, 4. , 4.5, 5. , 5.5, 6. , 6.5,\n",
              "       7. , 7.5, 8. , 8.5, 9. , 9.5])"
            ]
          },
          "metadata": {},
          "execution_count": 30
        }
      ]
    },
    {
      "cell_type": "code",
      "source": [
        "A[np.bitwise_and(A > -5, A < 5)] # łączenie warunków - funkcja bitwise_and"
      ],
      "metadata": {
        "colab": {
          "base_uri": "https://localhost:8080/"
        },
        "id": "DRHqngVUvWcT",
        "outputId": "bac7565a-ea7f-4349-e8f1-412e6bbf3bc9"
      },
      "execution_count": 31,
      "outputs": [
        {
          "output_type": "execute_result",
          "data": {
            "text/plain": [
              "array([-4.5, -4. , -3.5, -3. , -2.5, -2. , -1.5, -1. , -0.5,  0. ,  0.5,\n",
              "        1. ,  1.5,  2. ,  2.5,  3. ,  3.5,  4. ,  4.5])"
            ]
          },
          "metadata": {},
          "execution_count": 31
        }
      ]
    },
    {
      "cell_type": "code",
      "source": [
        "np.bitwise_or(A < -5, A > 5)"
      ],
      "metadata": {
        "colab": {
          "base_uri": "https://localhost:8080/"
        },
        "id": "8hdqtVqxwJQe",
        "outputId": "70d5bdc1-5d16-4408-b37a-66a2da70fbba"
      },
      "execution_count": 32,
      "outputs": [
        {
          "output_type": "execute_result",
          "data": {
            "text/plain": [
              "array([[ True,  True,  True,  True],\n",
              "       [ True,  True,  True,  True],\n",
              "       [ True,  True, False, False],\n",
              "       [False, False, False, False],\n",
              "       [False, False, False, False],\n",
              "       [False, False, False, False],\n",
              "       [False, False, False, False],\n",
              "       [False, False, False,  True],\n",
              "       [ True,  True,  True,  True],\n",
              "       [ True,  True,  True,  True]])"
            ]
          },
          "metadata": {},
          "execution_count": 32
        }
      ]
    }
  ]
}